{
  "metadata": {
    "kernelspec": {
      "name": "python",
      "display_name": "Python (Pyodide)",
      "language": "python"
    },
    "language_info": {
      "codemirror_mode": {
        "name": "python",
        "version": 3
      },
      "file_extension": ".py",
      "mimetype": "text/x-python",
      "name": "python",
      "nbconvert_exporter": "python",
      "pygments_lexer": "ipython3",
      "version": "3.8"
    }
  },
  "nbformat_minor": 4,
  "nbformat": 4,
  "cells": [
    {
      "cell_type": "code",
      "source": "import pandas as pd \nimport numpy as np\n\ndataframe = pd.read_csv('../data/train.csv')\ndata = dataframe.to_numpy()\ndataframe",
      "metadata": {
        "scrolled": true,
        "trusted": true
      },
      "outputs": [],
      "execution_count": null
    },
    {
      "cell_type": "code",
      "source": "X = np.empty([len(data), len(data[0][1:-7])])\ny = np.empty([len(data), 7])\n\nfor i in range(len(data)):\n    X[i] = data[i][1:-7]\n    y[i] = data[i][-7:]\n    \nX.shape, y.shape",
      "metadata": {
        "trusted": true
      },
      "outputs": [],
      "execution_count": null
    },
    {
      "cell_type": "code",
      "source": "from sklearn.neighbors import KNeighborsClassifier\n\nmodelo = KNeighborsClassifier()\nmodelo.fit(X, y)\nypred = modelo.predict(X)",
      "metadata": {
        "trusted": true
      },
      "outputs": [],
      "execution_count": 66
    },
    {
      "cell_type": "code",
      "source": "from sklearn.metrics import hamming_loss\n\nerro = hamming_loss(y, ypred)\nerro",
      "metadata": {
        "trusted": true
      },
      "outputs": [],
      "execution_count": null
    },
    {
      "cell_type": "code",
      "source": "dataframeTEST = pd.read_csv('../data/test.csv')\ndataTEST = dataframeTEST.to_numpy()\n\nXTEST = np.empty([len(dataTEST), len(dataTEST[0][1:])])\n\nfor i in range(len(dataTEST)):\n    XTEST[i] = dataTEST[i][1:]\n    \nypredTEST = modelo.predict(XTEST)",
      "metadata": {
        "trusted": true
      },
      "outputs": [],
      "execution_count": 68
    },
    {
      "cell_type": "code",
      "source": "dataframeRESULTS = pd.DataFrame(ypredTEST)\ndataframeRESULTS.to_csv(\"../data/results.csv\", header=False, index=False)",
      "metadata": {
        "trusted": true
      },
      "outputs": [],
      "execution_count": 69
    }
  ]
}
{
  "metadata": {
    "kernelspec": {
      "name": "python",
      "display_name": "Python (Pyodide)",
      "language": "python"
    },
    "language_info": {
      "codemirror_mode": {
        "name": "python",
        "version": 3
      },
      "file_extension": ".py",
      "mimetype": "text/x-python",
      "name": "python",
      "nbconvert_exporter": "python",
      "pygments_lexer": "ipython3",
      "version": "3.8"
    }
  },
  "nbformat_minor": 4,
  "nbformat": 4,
  "cells": [
    {
      "cell_type": "code",
      "source": "import pandas as pd \nimport numpy as np\n\ndataframe = pd.read_csv('../data/train.csv')\ndata = dataframe.to_numpy()\ndataframe",
      "metadata": {
        "scrolled": true,
        "trusted": true
      },
      "outputs": [
        {
          "execution_count": 1,
          "output_type": "execute_result",
          "data": {
            "text/plain": "          id  X_Minimum  X_Maximum  Y_Minimum  Y_Maximum  Pixels_Areas  \\\n0          0        584        590     909972     909977            16   \n1          1        808        816     728350     728372           433   \n2          2         39        192    2212076    2212144         11388   \n3          3        781        789    3353146    3353173           210   \n4          4       1540       1560     618457     618502           521   \n...      ...        ...        ...        ...        ...           ...   \n19214  19214        749        757     143210     143219            17   \n19215  19215        723        735    2488529    2488541           231   \n19216  19216          6         31    1578055    1578129           780   \n19217  19217          9         18    1713172    1713184           126   \n19218  19218       1505       1525    1733458    1733471           182   \n\n       X_Perimeter  Y_Perimeter  Sum_of_Luminosity  Minimum_of_Luminosity  \\\n0                8            5               2274                    113   \n1               20           54              44478                     70   \n2              705          420            1311391                     29   \n3               16           29               3202                    114   \n4               72           67              48231                     82   \n...            ...          ...                ...                    ...   \n19214            4            4               2193                    122   \n19215           17           26              27135                    104   \n19216          114           98              71112                     41   \n19217           13           26              14808                     88   \n19218           24           33              22785                     98   \n\n       ...  Orientation_Index  Luminosity_Index  SigmoidOfAreas  Pastry  \\\n0      ...            -0.5000           -0.0104          0.1417       0   \n1      ...             0.7419           -0.2997          0.9491       0   \n2      ...            -0.0105           -0.0944          1.0000       0   \n3      ...             0.6667           -0.0402          0.4025       0   \n4      ...             0.9158           -0.2455          0.9998       0   \n...    ...                ...               ...             ...     ...   \n19214  ...            -0.1429            0.0044          0.2901       0   \n19215  ...             0.7222           -0.0989          0.5378       0   \n19216  ...             0.7719           -0.4283          0.9997       1   \n19217  ...             0.9610           -0.1162          0.3509       0   \n19218  ...             0.5263           -0.1120          0.6619       0   \n\n       Z_Scratch  K_Scatch  Stains  Dirtiness  Bumps  Other_Faults  \n0              0         0       1          0      0             0  \n1              0         0       0          0      0             1  \n2              0         1       0          0      0             0  \n3              0         1       0          0      0             0  \n4              0         0       0          0      0             1  \n...          ...       ...     ...        ...    ...           ...  \n19214          0         0       1          0      0             0  \n19215          0         0       0          0      0             1  \n19216          0         0       0          0      0             0  \n19217          0         0       0          0      0             1  \n19218          0         0       0          0      1             0  \n\n[19219 rows x 35 columns]",
            "text/html": "<div>\n<style scoped>\n    .dataframe tbody tr th:only-of-type {\n        vertical-align: middle;\n    }\n\n    .dataframe tbody tr th {\n        vertical-align: top;\n    }\n\n    .dataframe thead th {\n        text-align: right;\n    }\n</style>\n<table border=\"1\" class=\"dataframe\">\n  <thead>\n    <tr style=\"text-align: right;\">\n      <th></th>\n      <th>id</th>\n      <th>X_Minimum</th>\n      <th>X_Maximum</th>\n      <th>Y_Minimum</th>\n      <th>Y_Maximum</th>\n      <th>Pixels_Areas</th>\n      <th>X_Perimeter</th>\n      <th>Y_Perimeter</th>\n      <th>Sum_of_Luminosity</th>\n      <th>Minimum_of_Luminosity</th>\n      <th>...</th>\n      <th>Orientation_Index</th>\n      <th>Luminosity_Index</th>\n      <th>SigmoidOfAreas</th>\n      <th>Pastry</th>\n      <th>Z_Scratch</th>\n      <th>K_Scatch</th>\n      <th>Stains</th>\n      <th>Dirtiness</th>\n      <th>Bumps</th>\n      <th>Other_Faults</th>\n    </tr>\n  </thead>\n  <tbody>\n    <tr>\n      <th>0</th>\n      <td>0</td>\n      <td>584</td>\n      <td>590</td>\n      <td>909972</td>\n      <td>909977</td>\n      <td>16</td>\n      <td>8</td>\n      <td>5</td>\n      <td>2274</td>\n      <td>113</td>\n      <td>...</td>\n      <td>-0.5000</td>\n      <td>-0.0104</td>\n      <td>0.1417</td>\n      <td>0</td>\n      <td>0</td>\n      <td>0</td>\n      <td>1</td>\n      <td>0</td>\n      <td>0</td>\n      <td>0</td>\n    </tr>\n    <tr>\n      <th>1</th>\n      <td>1</td>\n      <td>808</td>\n      <td>816</td>\n      <td>728350</td>\n      <td>728372</td>\n      <td>433</td>\n      <td>20</td>\n      <td>54</td>\n      <td>44478</td>\n      <td>70</td>\n      <td>...</td>\n      <td>0.7419</td>\n      <td>-0.2997</td>\n      <td>0.9491</td>\n      <td>0</td>\n      <td>0</td>\n      <td>0</td>\n      <td>0</td>\n      <td>0</td>\n      <td>0</td>\n      <td>1</td>\n    </tr>\n    <tr>\n      <th>2</th>\n      <td>2</td>\n      <td>39</td>\n      <td>192</td>\n      <td>2212076</td>\n      <td>2212144</td>\n      <td>11388</td>\n      <td>705</td>\n      <td>420</td>\n      <td>1311391</td>\n      <td>29</td>\n      <td>...</td>\n      <td>-0.0105</td>\n      <td>-0.0944</td>\n      <td>1.0000</td>\n      <td>0</td>\n      <td>0</td>\n      <td>1</td>\n      <td>0</td>\n      <td>0</td>\n      <td>0</td>\n      <td>0</td>\n    </tr>\n    <tr>\n      <th>3</th>\n      <td>3</td>\n      <td>781</td>\n      <td>789</td>\n      <td>3353146</td>\n      <td>3353173</td>\n      <td>210</td>\n      <td>16</td>\n      <td>29</td>\n      <td>3202</td>\n      <td>114</td>\n      <td>...</td>\n      <td>0.6667</td>\n      <td>-0.0402</td>\n      <td>0.4025</td>\n      <td>0</td>\n      <td>0</td>\n      <td>1</td>\n      <td>0</td>\n      <td>0</td>\n      <td>0</td>\n      <td>0</td>\n    </tr>\n    <tr>\n      <th>4</th>\n      <td>4</td>\n      <td>1540</td>\n      <td>1560</td>\n      <td>618457</td>\n      <td>618502</td>\n      <td>521</td>\n      <td>72</td>\n      <td>67</td>\n      <td>48231</td>\n      <td>82</td>\n      <td>...</td>\n      <td>0.9158</td>\n      <td>-0.2455</td>\n      <td>0.9998</td>\n      <td>0</td>\n      <td>0</td>\n      <td>0</td>\n      <td>0</td>\n      <td>0</td>\n      <td>0</td>\n      <td>1</td>\n    </tr>\n    <tr>\n      <th>...</th>\n      <td>...</td>\n      <td>...</td>\n      <td>...</td>\n      <td>...</td>\n      <td>...</td>\n      <td>...</td>\n      <td>...</td>\n      <td>...</td>\n      <td>...</td>\n      <td>...</td>\n      <td>...</td>\n      <td>...</td>\n      <td>...</td>\n      <td>...</td>\n      <td>...</td>\n      <td>...</td>\n      <td>...</td>\n      <td>...</td>\n      <td>...</td>\n      <td>...</td>\n      <td>...</td>\n    </tr>\n    <tr>\n      <th>19214</th>\n      <td>19214</td>\n      <td>749</td>\n      <td>757</td>\n      <td>143210</td>\n      <td>143219</td>\n      <td>17</td>\n      <td>4</td>\n      <td>4</td>\n      <td>2193</td>\n      <td>122</td>\n      <td>...</td>\n      <td>-0.1429</td>\n      <td>0.0044</td>\n      <td>0.2901</td>\n      <td>0</td>\n      <td>0</td>\n      <td>0</td>\n      <td>1</td>\n      <td>0</td>\n      <td>0</td>\n      <td>0</td>\n    </tr>\n    <tr>\n      <th>19215</th>\n      <td>19215</td>\n      <td>723</td>\n      <td>735</td>\n      <td>2488529</td>\n      <td>2488541</td>\n      <td>231</td>\n      <td>17</td>\n      <td>26</td>\n      <td>27135</td>\n      <td>104</td>\n      <td>...</td>\n      <td>0.7222</td>\n      <td>-0.0989</td>\n      <td>0.5378</td>\n      <td>0</td>\n      <td>0</td>\n      <td>0</td>\n      <td>0</td>\n      <td>0</td>\n      <td>0</td>\n      <td>1</td>\n    </tr>\n    <tr>\n      <th>19216</th>\n      <td>19216</td>\n      <td>6</td>\n      <td>31</td>\n      <td>1578055</td>\n      <td>1578129</td>\n      <td>780</td>\n      <td>114</td>\n      <td>98</td>\n      <td>71112</td>\n      <td>41</td>\n      <td>...</td>\n      <td>0.7719</td>\n      <td>-0.4283</td>\n      <td>0.9997</td>\n      <td>1</td>\n      <td>0</td>\n      <td>0</td>\n      <td>0</td>\n      <td>0</td>\n      <td>0</td>\n      <td>0</td>\n    </tr>\n    <tr>\n      <th>19217</th>\n      <td>19217</td>\n      <td>9</td>\n      <td>18</td>\n      <td>1713172</td>\n      <td>1713184</td>\n      <td>126</td>\n      <td>13</td>\n      <td>26</td>\n      <td>14808</td>\n      <td>88</td>\n      <td>...</td>\n      <td>0.9610</td>\n      <td>-0.1162</td>\n      <td>0.3509</td>\n      <td>0</td>\n      <td>0</td>\n      <td>0</td>\n      <td>0</td>\n      <td>0</td>\n      <td>0</td>\n      <td>1</td>\n    </tr>\n    <tr>\n      <th>19218</th>\n      <td>19218</td>\n      <td>1505</td>\n      <td>1525</td>\n      <td>1733458</td>\n      <td>1733471</td>\n      <td>182</td>\n      <td>24</td>\n      <td>33</td>\n      <td>22785</td>\n      <td>98</td>\n      <td>...</td>\n      <td>0.5263</td>\n      <td>-0.1120</td>\n      <td>0.6619</td>\n      <td>0</td>\n      <td>0</td>\n      <td>0</td>\n      <td>0</td>\n      <td>0</td>\n      <td>1</td>\n      <td>0</td>\n    </tr>\n  </tbody>\n</table>\n<p>19219 rows × 35 columns</p>\n</div>"
          },
          "metadata": {}
        }
      ],
      "execution_count": 1
    },
    {
      "cell_type": "code",
      "source": "X = np.empty([len(data), len(data[0][1:-7])])\ny = np.empty([len(data), 7])\n\nfor i in range(len(data)):\n    X[i] = data[i][1:-7]\n    y[i] = data[i][-7:]\n    \nX.shape, y.shape",
      "metadata": {
        "trusted": true
      },
      "outputs": [
        {
          "execution_count": 2,
          "output_type": "execute_result",
          "data": {
            "text/plain": "((19219, 27), (19219, 7))"
          },
          "metadata": {}
        }
      ],
      "execution_count": 2
    },
    {
      "cell_type": "code",
      "source": "from sklearn.neighbors import KNeighborsClassifier\n\nmodelo = KNeighborsClassifier()\nmodelo.fit(X, y)\nypred = modelo.predict(X)\nypred",
      "metadata": {
        "trusted": true
      },
      "outputs": [
        {
          "name": "stderr",
          "text": "/lib/python3.11/site-packages/threadpoolctl.py:1019: RuntimeWarning: libc not found. The ctypes module in Python 3.11 is maybe too old for this OS.\n  warnings.warn(\n",
          "output_type": "stream"
        },
        {
          "execution_count": 3,
          "output_type": "execute_result",
          "data": {
            "text/plain": "array([[0., 0., 0., ..., 0., 0., 0.],\n       [0., 0., 0., ..., 0., 1., 0.],\n       [0., 0., 1., ..., 0., 0., 0.],\n       ...,\n       [0., 0., 0., ..., 0., 0., 0.],\n       [0., 0., 0., ..., 0., 0., 0.],\n       [0., 0., 0., ..., 0., 0., 1.]])"
          },
          "metadata": {}
        }
      ],
      "execution_count": 3
    },
    {
      "cell_type": "code",
      "source": "from sklearn.metrics import hamming_loss\n\nerro = hamming_loss(y, ypred)\nerro",
      "metadata": {
        "trusted": true
      },
      "outputs": [
        {
          "execution_count": 4,
          "output_type": "execute_result",
          "data": {
            "text/plain": "0.09923215865252391"
          },
          "metadata": {}
        }
      ],
      "execution_count": 4
    },
    {
      "cell_type": "code",
      "source": "dataframeTEST = pd.read_csv('../data/test.csv')\ndataTEST = dataframeTEST.to_numpy()\n\nXTEST = np.empty([len(dataTEST), len(dataTEST[0][1:])])\n\nfor i in range(len(dataTEST)):\n    XTEST[i] = dataTEST[i][1:]\n    \nypredTEST = modelo.predict(XTEST)\nypredTEST",
      "metadata": {
        "trusted": true
      },
      "outputs": [
        {
          "execution_count": 4,
          "output_type": "execute_result",
          "data": {
            "text/plain": "array([[0., 0., 0., ..., 0., 0., 0.],\n       [0., 0., 0., ..., 0., 0., 1.],\n       [0., 0., 0., ..., 0., 0., 0.],\n       ...,\n       [0., 0., 1., ..., 0., 0., 0.],\n       [0., 0., 0., ..., 0., 0., 1.],\n       [0., 0., 1., ..., 0., 0., 0.]])"
          },
          "metadata": {}
        }
      ],
      "execution_count": 4
    },
    {
      "cell_type": "code",
      "source": "dataframeRESULTS = pd.DataFrame(ypredTEST)\ndataframeRESULTS.to_csv(\"../data/results.csv\", header=False, index=False)",
      "metadata": {
        "trusted": true
      },
      "outputs": [],
      "execution_count": 5
    }
  ]
}